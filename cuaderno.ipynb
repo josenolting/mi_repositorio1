{
 "cells": [
  {
   "cell_type": "code",
   "execution_count": null,
   "metadata": {},
   "outputs": [],
   "source": [
    "print(\"Hola\")\n",
    "def dividir(a, b):\n",
    "    try:\n",
    "        return a/b\n",
    "    except:\n",
    "        None\n",
    "print(dividir(2, 1))\n",
    "print(dividir(2, 0))"
   ]
  },
  {
   "cell_type": "code",
   "execution_count": null,
   "metadata": {},
   "outputs": [],
   "source": [
    "def dividir(a, b):\n",
    "    try:\n",
    "        return a/b\n",
    "    except ZeroDivisionError:\n",
    "        return \"El error encontrado es de tipo ZeroDivisionError\"\n",
    "    except TypeError:\n",
    "        return \"El error encontrado es de tipo TypeError\"\n",
    "    except NameError:\n",
    "        return \"El error encontrado es de tipo NameError\"\n",
    "print(dividir(2, 1))\n",
    "print(dividir(2, 0))\n",
    "print(dividir(\"Hola\", \"Mundo\"))\n",
    "print(dividir(2, casa))"
   ]
  },
  {
   "cell_type": "code",
   "execution_count": null,
   "metadata": {},
   "outputs": [],
   "source": [
    "def dividir(a, b):\n",
    "    try:\n",
    "        return a/b\n",
    "    except Exception as error:\n",
    "        return f\"El error encontrado es de tipo {error}\"\n",
    "    \n",
    "print(dividir(2, 1))\n",
    "print(dividir(2, 0))\n",
    "print(dividir(\"Hola\", \"Mundo\"))\n",
    "print(dividir(2, casa))\n"
   ]
  },
  {
   "cell_type": "code",
   "execution_count": null,
   "metadata": {},
   "outputs": [],
   "source": [
    "eleccion = int(input(\"Elige un numero del 1 al 4\"))\n",
    "try:\n",
    "    if eleccion == 1:\n",
    "        print(\"Soy un string\" - 4)\n",
    "    elif eleccion == 2:\n",
    "        print(4/0)\n",
    "    elif eleccion == 3:\n",
    "        prnt(\"mostrando codigo\")\n",
    "    elif eleccion == 4:\n",
    "        print(int(\"quiero ser un numero\")) \n",
    "except Exception as error:\n",
    "    print(\"El error detectado es de tipo\", error)"
   ]
  },
  {
   "cell_type": "code",
   "execution_count": 4,
   "metadata": {},
   "outputs": [
    {
     "name": "stdout",
     "output_type": "stream",
     "text": [
      "El nombre del alumno es Juana\n",
      "La nota del alumno es 9\n",
      "Juana ha aprobado la materia con un 9\n",
      "El nombre del alumno es Martin\n",
      "La nota del alumno es 4\n",
      "Martin ha desabropado la materia con un 4\n"
     ]
    }
   ],
   "source": [
    "class Alumno:\n",
    "    def __init__ (self, nombre, nota):\n",
    "        self.nombre = nombre\n",
    "        self.nota = nota\n",
    "    def imprimir(self):\n",
    "        print(f\"El nombre del alumno es {self.nombre}\")\n",
    "        print(f\"La nota del alumno es {self.nota}\")\n",
    "    def resultado(self):\n",
    "        if self.nota >= 6:\n",
    "            print(f\"{self.nombre} ha aprobado la materia con un {self.nota}\")\n",
    "        else:\n",
    "            print(f\"{self.nombre} ha desabropado la materia con un {self.nota}\")\n",
    "\n",
    "alumno1 = Alumno(\"Juana\", 9)\n",
    "alumno2 = Alumno(\"Martin\", 4)\n",
    "\n",
    "alumno1.imprimir()\n",
    "alumno1.resultado()\n",
    "alumno2.imprimir()\n",
    "alumno2.resultado()"
   ]
  },
  {
   "cell_type": "code",
   "execution_count": 7,
   "metadata": {},
   "outputs": [
    {
     "ename": "TypeError",
     "evalue": "unsupported operand type(s) for +: 'int' and 'method'",
     "output_type": "error",
     "traceback": [
      "\u001b[1;31m---------------------------------------------------------------------------\u001b[0m",
      "\u001b[1;31mTypeError\u001b[0m                                 Traceback (most recent call last)",
      "Cell \u001b[1;32mIn[7], line 51\u001b[0m\n\u001b[0;32m     49\u001b[0m total_a_pagar \u001b[39m=\u001b[39m \u001b[39m0\u001b[39m\n\u001b[0;32m     50\u001b[0m \u001b[39mfor\u001b[39;00m televisor \u001b[39min\u001b[39;00m televisores:\n\u001b[1;32m---> 51\u001b[0m     total_a_pagar \u001b[39m+\u001b[39m\u001b[39m=\u001b[39m televisor\u001b[39m.\u001b[39;49mprecio_final()\n\u001b[0;32m     53\u001b[0m \u001b[39m#Mostrar el total a pagar\u001b[39;00m\n\u001b[0;32m     54\u001b[0m \u001b[39mprint\u001b[39m(\u001b[39m\"\u001b[39m\u001b[39mTotal a pagar por los televisores:\u001b[39m\u001b[39m\"\u001b[39m, total_a_pagar, \u001b[39m\"\u001b[39m\u001b[39mpesos\u001b[39m\u001b[39m\"\u001b[39m)\n",
      "Cell \u001b[1;32mIn[7], line 39\u001b[0m, in \u001b[0;36mTelevisor.precio_final\u001b[1;34m(self)\u001b[0m\n\u001b[0;32m     37\u001b[0m precio_tamano \u001b[39m=\u001b[39m \u001b[39mself\u001b[39m\u001b[39m.\u001b[39m__comprobarprecio__\n\u001b[0;32m     38\u001b[0m precio_consumo \u001b[39m=\u001b[39m \u001b[39mself\u001b[39m\u001b[39m.\u001b[39m__comprobarprecioconsumo__\n\u001b[1;32m---> 39\u001b[0m \u001b[39mreturn\u001b[39;00m \u001b[39mself\u001b[39;49m\u001b[39m.\u001b[39;49mpreciobase \u001b[39m+\u001b[39;49m precio_tamano \u001b[39m+\u001b[39m precio_consumo\n",
      "\u001b[1;31mTypeError\u001b[0m: unsupported operand type(s) for +: 'int' and 'method'"
     ]
    }
   ],
   "source": [
    "class Televisor:\n",
    "    def __init__(self, preciobase = 100, color = \"blanco\", consumo = \"F\", peso = 5):\n",
    "        self.preciobase = preciobase\n",
    "        self.color = color\n",
    "        self.consumo = self.__comprobarconsumo__(consumo)\n",
    "        self.peso = peso\n",
    "\n",
    "    def __comprobarconsumo__(self, consumoe):\n",
    "        letras_validas = [\"A\", \"B\", \"C\", \"D\", \"E\", \"F\"]\n",
    "        if consumoe.upper() in letras_validas:\n",
    "            return consumoe.upper()\n",
    "        else:\n",
    "            return \"F\"\n",
    "        \n",
    "    def __comprobarcolor__(self, color):\n",
    "        colores_validos = [\"blanco\", \"negro\", \"rojo\", \"azul\", \"gris\"]\n",
    "        if color.lower() in colores_validos:\n",
    "            return color.lower()\n",
    "        else:\n",
    "            return \"blanco\"\n",
    "        \n",
    "    def __comprobarprecio__(self):\n",
    "        if self.peso < 20:\n",
    "            return 10\n",
    "        elif self.peso < 50:\n",
    "            return 50\n",
    "        elif self.peso < 80:\n",
    "            return 80\n",
    "        else:\n",
    "            return 100\n",
    "        \n",
    "    def __comprobarprecioconsumo__(self):\n",
    "        precios_letra = {\"A\": 100, \"B\": 80, \"C\": 60, \"D\": 50, \"E\": 30, \"F\": 10}\n",
    "        return precios_letra[self.consumoe]\n",
    "    \n",
    "    def precio_final(self):\n",
    "        precio_tamano = self.__comprobarprecio__\n",
    "        precio_consumo = self.__comprobarprecioconsumo__\n",
    "        return self.preciobase + precio_tamano + precio_consumo\n",
    "    \n",
    "televisores = [\n",
    "    Televisor(preciobase = 250, color = \"rojo\", consumo = \"E\", peso = 10), \n",
    "    Televisor(preciobase = 143, color = \"negro\", consumo = \"C\", peso = 13), \n",
    "    Televisor(preciobase = 54, color = \"gris\", consumo = \"A\", peso = 7), \n",
    "    Televisor(preciobase = 300, color = \"violeta\", consumo = \"B\", peso = 23)\n",
    "] \n",
    "\n",
    "#Calcular el total a pagar por los televisores\n",
    "total_a_pagar = 0\n",
    "for televisor in televisores:\n",
    "    total_a_pagar += televisor.precio_final()\n",
    "\n",
    "#Mostrar el total a pagar\n",
    "print(\"Total a pagar por los televisores:\", total_a_pagar, \"pesos\")\n"
   ]
  }
 ],
 "metadata": {
  "kernelspec": {
   "display_name": "Python 3",
   "language": "python",
   "name": "python3"
  },
  "language_info": {
   "codemirror_mode": {
    "name": "ipython",
    "version": 3
   },
   "file_extension": ".py",
   "mimetype": "text/x-python",
   "name": "python",
   "nbconvert_exporter": "python",
   "pygments_lexer": "ipython3",
   "version": "3.11.4"
  },
  "orig_nbformat": 4
 },
 "nbformat": 4,
 "nbformat_minor": 2
}
